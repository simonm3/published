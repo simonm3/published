{
  "nbformat": 4,
  "nbformat_minor": 0,
  "metadata": {
    "colab": {
      "name": "Copy of exploration.ipynb",
      "provenance": [],
      "collapsed_sections": [],
      "include_colab_link": true
    },
    "kernelspec": {
      "name": "python3",
      "display_name": "Python 3"
    }
  },
  "cells": [
    {
      "cell_type": "markdown",
      "metadata": {
        "id": "view-in-github",
        "colab_type": "text"
      },
      "source": [
        "<a href=\"https://colab.research.google.com/github/simonm3/published/blob/master/Copy_of_exploration.ipynb\" target=\"_parent\"><img src=\"https://colab.research.google.com/assets/colab-badge.svg\" alt=\"Open In Colab\"/></a>"
      ]
    },
    {
      "cell_type": "code",
      "metadata": {
        "id": "vajgKCRqmfcT",
        "colab_type": "code",
        "outputId": "817400e7-03d4-4cbd-a2f2-c0be7872ad83",
        "colab": {
          "base_uri": "https://localhost:8080/",
          "height": 598
        }
      },
      "source": [
        "#https://developers.google.com/earth-engine/python_install\n",
        "#You 1st need to sign up your Google account here: https://earthengine.google.com/ (it takes a couple of hours to get accepted. The API won't work before.)\n",
        "import ee\n",
        "import folium\n",
        "from IPython.display import Image\n",
        "!pip install earthengine-api\n",
        "ee.Authenticate()\n",
        "ee.Initialize()"
      ],
      "execution_count": 0,
      "outputs": [
        {
          "output_type": "stream",
          "text": [
            "Requirement already satisfied: earthengine-api in /usr/local/lib/python3.6/dist-packages (0.1.204)\n",
            "Requirement already satisfied: google-auth>=1.4.1 in /usr/local/lib/python3.6/dist-packages (from earthengine-api) (1.4.2)\n",
            "Requirement already satisfied: google-auth-httplib2>=0.0.3 in /usr/local/lib/python3.6/dist-packages (from earthengine-api) (0.0.3)\n",
            "Requirement already satisfied: future in /usr/local/lib/python3.6/dist-packages (from earthengine-api) (0.16.0)\n",
            "Requirement already satisfied: httplib2<1dev,>=0.9.2 in /usr/local/lib/python3.6/dist-packages (from earthengine-api) (0.11.3)\n",
            "Requirement already satisfied: google-cloud-storage in /usr/local/lib/python3.6/dist-packages (from earthengine-api) (1.16.2)\n",
            "Requirement already satisfied: google-api-python-client in /usr/local/lib/python3.6/dist-packages (from earthengine-api) (1.7.11)\n",
            "Requirement already satisfied: six in /usr/local/lib/python3.6/dist-packages (from earthengine-api) (1.12.0)\n",
            "Requirement already satisfied: pyasn1-modules>=0.2.1 in /usr/local/lib/python3.6/dist-packages (from google-auth>=1.4.1->earthengine-api) (0.2.7)\n",
            "Requirement already satisfied: rsa>=3.1.4 in /usr/local/lib/python3.6/dist-packages (from google-auth>=1.4.1->earthengine-api) (4.0)\n",
            "Requirement already satisfied: cachetools>=2.0.0 in /usr/local/lib/python3.6/dist-packages (from google-auth>=1.4.1->earthengine-api) (3.1.1)\n",
            "Requirement already satisfied: google-cloud-core<2.0dev,>=1.0.0 in /usr/local/lib/python3.6/dist-packages (from google-cloud-storage->earthengine-api) (1.0.3)\n",
            "Requirement already satisfied: google-resumable-media<0.5.0dev,>=0.3.1 in /usr/local/lib/python3.6/dist-packages (from google-cloud-storage->earthengine-api) (0.4.1)\n",
            "Requirement already satisfied: uritemplate<4dev,>=3.0.0 in /usr/local/lib/python3.6/dist-packages (from google-api-python-client->earthengine-api) (3.0.0)\n",
            "Requirement already satisfied: pyasn1<0.5.0,>=0.4.6 in /usr/local/lib/python3.6/dist-packages (from pyasn1-modules>=0.2.1->google-auth>=1.4.1->earthengine-api) (0.4.7)\n",
            "Requirement already satisfied: google-api-core<2.0.0dev,>=1.14.0 in /usr/local/lib/python3.6/dist-packages (from google-cloud-core<2.0dev,>=1.0.0->google-cloud-storage->earthengine-api) (1.14.3)\n",
            "Requirement already satisfied: pytz in /usr/local/lib/python3.6/dist-packages (from google-api-core<2.0.0dev,>=1.14.0->google-cloud-core<2.0dev,>=1.0.0->google-cloud-storage->earthengine-api) (2018.9)\n",
            "Requirement already satisfied: protobuf>=3.4.0 in /usr/local/lib/python3.6/dist-packages (from google-api-core<2.0.0dev,>=1.14.0->google-cloud-core<2.0dev,>=1.0.0->google-cloud-storage->earthengine-api) (3.10.0)\n",
            "Requirement already satisfied: requests<3.0.0dev,>=2.18.0 in /usr/local/lib/python3.6/dist-packages (from google-api-core<2.0.0dev,>=1.14.0->google-cloud-core<2.0dev,>=1.0.0->google-cloud-storage->earthengine-api) (2.21.0)\n",
            "Requirement already satisfied: googleapis-common-protos<2.0dev,>=1.6.0 in /usr/local/lib/python3.6/dist-packages (from google-api-core<2.0.0dev,>=1.14.0->google-cloud-core<2.0dev,>=1.0.0->google-cloud-storage->earthengine-api) (1.6.0)\n",
            "Requirement already satisfied: setuptools>=34.0.0 in /usr/local/lib/python3.6/dist-packages (from google-api-core<2.0.0dev,>=1.14.0->google-cloud-core<2.0dev,>=1.0.0->google-cloud-storage->earthengine-api) (41.4.0)\n",
            "Requirement already satisfied: certifi>=2017.4.17 in /usr/local/lib/python3.6/dist-packages (from requests<3.0.0dev,>=2.18.0->google-api-core<2.0.0dev,>=1.14.0->google-cloud-core<2.0dev,>=1.0.0->google-cloud-storage->earthengine-api) (2019.9.11)\n",
            "Requirement already satisfied: urllib3<1.25,>=1.21.1 in /usr/local/lib/python3.6/dist-packages (from requests<3.0.0dev,>=2.18.0->google-api-core<2.0.0dev,>=1.14.0->google-cloud-core<2.0dev,>=1.0.0->google-cloud-storage->earthengine-api) (1.24.3)\n",
            "Requirement already satisfied: idna<2.9,>=2.5 in /usr/local/lib/python3.6/dist-packages (from requests<3.0.0dev,>=2.18.0->google-api-core<2.0.0dev,>=1.14.0->google-cloud-core<2.0dev,>=1.0.0->google-cloud-storage->earthengine-api) (2.8)\n",
            "Requirement already satisfied: chardet<3.1.0,>=3.0.2 in /usr/local/lib/python3.6/dist-packages (from requests<3.0.0dev,>=2.18.0->google-api-core<2.0.0dev,>=1.14.0->google-cloud-core<2.0dev,>=1.0.0->google-cloud-storage->earthengine-api) (3.0.4)\n",
            "To authorize access needed by Earth Engine, open the following URL in a web browser and follow the instructions. If the web browser does not start automatically, please manually browse the URL below.\n",
            "\n",
            "    https://accounts.google.com/o/oauth2/auth?client_id=517222506229-vsmmajv00ul0bs7p89v5m89qs8eb9359.apps.googleusercontent.com&scope=https%3A%2F%2Fwww.googleapis.com%2Fauth%2Fearthengine+https%3A%2F%2Fwww.googleapis.com%2Fauth%2Fdevstorage.full_control&redirect_uri=urn%3Aietf%3Awg%3Aoauth%3A2.0%3Aoob&response_type=code\n",
            "\n",
            "The authorization workflow will generate a code, which you should paste in the box below. \n",
            "Enter verification code: 4/swEUlvLrGM6rzT2QogtQMPp0oXBl7YiuDte1HDOl28gTRBf4cNarnyM\n",
            "\n",
            "Successfully saved authorization token.\n"
          ],
          "name": "stdout"
        }
      ]
    },
    {
      "cell_type": "markdown",
      "metadata": {
        "id": "lqkM3Ki6sza3",
        "colab_type": "text"
      },
      "source": [
        "### Generates an interactive Map (tutorial code)"
      ]
    },
    {
      "cell_type": "code",
      "metadata": {
        "id": "xOyjdSWPmgdN",
        "colab_type": "code",
        "outputId": "9c5be9af-c03d-4aee-a221-44b12fa6e728",
        "colab": {
          "base_uri": "https://localhost:8080/",
          "height": 374
        }
      },
      "source": [
        "# Import libraries.\n",
        "import ee\n",
        "import folium\n",
        "\n",
        "# Initialize the Earth Engine library.\n",
        "ee.Initialize()\n",
        "\n",
        "# Define a method for displaying Earth Engine image tiles to folium map.\n",
        "def add_ee_layer(self, eeImageObject, visParams, name):\n",
        "  mapID = ee.Image(eeImageObject).getMapId(visParams)\n",
        "  folium.raster_layers.TileLayer(\n",
        "    tiles = \"https://earthengine.googleapis.com/map/\"+mapID['mapid']+\n",
        "      \"/{z}/{x}/{y}?token=\"+mapID['token'],\n",
        "    attr = \"Map Data © Google Earth Engine\",\n",
        "    name = name,\n",
        "    overlay = True,\n",
        "    control = True\n",
        "  ).add_to(self)\n",
        "\n",
        "# Add EE drawing method to folium.\n",
        "folium.Map.add_ee_layer = add_ee_layer\n",
        "\n",
        "# Fetch an elevation model.\n",
        "# dem = ee.Image('USGS/SRTMGL1_003')\n",
        "dem = ee.Image('USGS/SRTMGL1_003')\n",
        "\n",
        "# Set visualization parameters.\n",
        "visParams = {'min':0, 'max':3000, 'palette':['225ea8','41b6c4','a1dab4','ffffcc']}\n",
        "\n",
        "# Create a folium map object.\n",
        "myMap = folium.Map(location=[20, 0], zoom_start=3, height=500)\n",
        "\n",
        "# Add the elevation model to the map object.\n",
        "# myMap.add_ee_layer(dem, visParams, 'DEM')\n",
        "\n",
        "nighttimeLights = dem.select('avg_vis')\n",
        "nighttimeLightsVis = {min: 3.0,max: 60.0}\n",
        "myMap.add_ee_layer(nighttimeLights, nighttimeLightsVis, 'Nighttime Lights');\n",
        "\n",
        "# Add a layer control panel to the map.\n",
        "myMap.add_child(folium.LayerControl())\n",
        "\n",
        "# Display the map.\n",
        "display(myMap)"
      ],
      "execution_count": 0,
      "outputs": [
        {
          "output_type": "error",
          "ename": "EEException",
          "evalue": "ignored",
          "traceback": [
            "\u001b[0;31m---------------------------------------------------------------------------\u001b[0m",
            "\u001b[0;31mEEException\u001b[0m                               Traceback (most recent call last)",
            "\u001b[0;32m<ipython-input-27-31885d4bfbf4>\u001b[0m in \u001b[0;36m<module>\u001b[0;34m()\u001b[0m\n\u001b[1;32m     35\u001b[0m \u001b[0mnighttimeLights\u001b[0m \u001b[0;34m=\u001b[0m \u001b[0mdem\u001b[0m\u001b[0;34m.\u001b[0m\u001b[0mselect\u001b[0m\u001b[0;34m(\u001b[0m\u001b[0;34m'avg_vis'\u001b[0m\u001b[0;34m)\u001b[0m\u001b[0;34m\u001b[0m\u001b[0;34m\u001b[0m\u001b[0m\n\u001b[1;32m     36\u001b[0m \u001b[0mnighttimeLightsVis\u001b[0m \u001b[0;34m=\u001b[0m \u001b[0;34m{\u001b[0m\u001b[0mmin\u001b[0m\u001b[0;34m:\u001b[0m \u001b[0;36m3.0\u001b[0m\u001b[0;34m,\u001b[0m\u001b[0mmax\u001b[0m\u001b[0;34m:\u001b[0m \u001b[0;36m60.0\u001b[0m\u001b[0;34m}\u001b[0m\u001b[0;34m\u001b[0m\u001b[0;34m\u001b[0m\u001b[0m\n\u001b[0;32m---> 37\u001b[0;31m \u001b[0mmyMap\u001b[0m\u001b[0;34m.\u001b[0m\u001b[0madd_ee_layer\u001b[0m\u001b[0;34m(\u001b[0m\u001b[0mnighttimeLights\u001b[0m\u001b[0;34m,\u001b[0m \u001b[0mnighttimeLightsVis\u001b[0m\u001b[0;34m,\u001b[0m \u001b[0;34m'Nighttime Lights'\u001b[0m\u001b[0;34m)\u001b[0m\u001b[0;34m;\u001b[0m\u001b[0;34m\u001b[0m\u001b[0;34m\u001b[0m\u001b[0m\n\u001b[0m\u001b[1;32m     38\u001b[0m \u001b[0;34m\u001b[0m\u001b[0m\n\u001b[1;32m     39\u001b[0m \u001b[0;31m# Add a layer control panel to the map.\u001b[0m\u001b[0;34m\u001b[0m\u001b[0;34m\u001b[0m\u001b[0;34m\u001b[0m\u001b[0m\n",
            "\u001b[0;32m<ipython-input-27-31885d4bfbf4>\u001b[0m in \u001b[0;36madd_ee_layer\u001b[0;34m(self, eeImageObject, visParams, name)\u001b[0m\n\u001b[1;32m      7\u001b[0m \u001b[0;31m# Define a method for displaying Earth Engine image tiles to folium map.\u001b[0m\u001b[0;34m\u001b[0m\u001b[0;34m\u001b[0m\u001b[0;34m\u001b[0m\u001b[0m\n\u001b[1;32m      8\u001b[0m \u001b[0;32mdef\u001b[0m \u001b[0madd_ee_layer\u001b[0m\u001b[0;34m(\u001b[0m\u001b[0mself\u001b[0m\u001b[0;34m,\u001b[0m \u001b[0meeImageObject\u001b[0m\u001b[0;34m,\u001b[0m \u001b[0mvisParams\u001b[0m\u001b[0;34m,\u001b[0m \u001b[0mname\u001b[0m\u001b[0;34m)\u001b[0m\u001b[0;34m:\u001b[0m\u001b[0;34m\u001b[0m\u001b[0;34m\u001b[0m\u001b[0m\n\u001b[0;32m----> 9\u001b[0;31m   \u001b[0mmapID\u001b[0m \u001b[0;34m=\u001b[0m \u001b[0mee\u001b[0m\u001b[0;34m.\u001b[0m\u001b[0mImage\u001b[0m\u001b[0;34m(\u001b[0m\u001b[0meeImageObject\u001b[0m\u001b[0;34m)\u001b[0m\u001b[0;34m.\u001b[0m\u001b[0mgetMapId\u001b[0m\u001b[0;34m(\u001b[0m\u001b[0mvisParams\u001b[0m\u001b[0;34m)\u001b[0m\u001b[0;34m\u001b[0m\u001b[0;34m\u001b[0m\u001b[0m\n\u001b[0m\u001b[1;32m     10\u001b[0m   folium.raster_layers.TileLayer(\n\u001b[1;32m     11\u001b[0m     \u001b[0mtiles\u001b[0m \u001b[0;34m=\u001b[0m \u001b[0;34m\"https://earthengine.googleapis.com/map/\"\u001b[0m\u001b[0;34m+\u001b[0m\u001b[0mmapID\u001b[0m\u001b[0;34m[\u001b[0m\u001b[0;34m'mapid'\u001b[0m\u001b[0;34m]\u001b[0m\u001b[0;34m+\u001b[0m\u001b[0;34m\u001b[0m\u001b[0;34m\u001b[0m\u001b[0m\n",
            "\u001b[0;32m/usr/local/lib/python3.6/dist-packages/ee/image.py\u001b[0m in \u001b[0;36mgetMapId\u001b[0;34m(self, vis_params)\u001b[0m\n\u001b[1;32m    129\u001b[0m     \u001b[0mvis_image\u001b[0m\u001b[0;34m,\u001b[0m \u001b[0mrequest\u001b[0m \u001b[0;34m=\u001b[0m \u001b[0mself\u001b[0m\u001b[0;34m.\u001b[0m\u001b[0m_apply_visualization\u001b[0m\u001b[0;34m(\u001b[0m\u001b[0mvis_params\u001b[0m\u001b[0;34m)\u001b[0m\u001b[0;34m\u001b[0m\u001b[0;34m\u001b[0m\u001b[0m\n\u001b[1;32m    130\u001b[0m     \u001b[0mrequest\u001b[0m\u001b[0;34m[\u001b[0m\u001b[0;34m'image'\u001b[0m\u001b[0;34m]\u001b[0m \u001b[0;34m=\u001b[0m \u001b[0mvis_image\u001b[0m\u001b[0;34m\u001b[0m\u001b[0;34m\u001b[0m\u001b[0m\n\u001b[0;32m--> 131\u001b[0;31m     \u001b[0mresponse\u001b[0m \u001b[0;34m=\u001b[0m \u001b[0mdata\u001b[0m\u001b[0;34m.\u001b[0m\u001b[0mgetMapId\u001b[0m\u001b[0;34m(\u001b[0m\u001b[0mrequest\u001b[0m\u001b[0;34m)\u001b[0m\u001b[0;34m\u001b[0m\u001b[0;34m\u001b[0m\u001b[0m\n\u001b[0m\u001b[1;32m    132\u001b[0m     \u001b[0mresponse\u001b[0m\u001b[0;34m[\u001b[0m\u001b[0;34m'image'\u001b[0m\u001b[0;34m]\u001b[0m \u001b[0;34m=\u001b[0m \u001b[0mself\u001b[0m\u001b[0;34m\u001b[0m\u001b[0;34m\u001b[0m\u001b[0m\n\u001b[1;32m    133\u001b[0m     \u001b[0;32mreturn\u001b[0m \u001b[0mresponse\u001b[0m\u001b[0;34m\u001b[0m\u001b[0;34m\u001b[0m\u001b[0m\n",
            "\u001b[0;32m/usr/local/lib/python3.6/dist-packages/ee/data.py\u001b[0m in \u001b[0;36mgetMapId\u001b[0;34m(params)\u001b[0m\n\u001b[1;32m    575\u001b[0m     \u001b[0mparams\u001b[0m\u001b[0;34m[\u001b[0m\u001b[0;34m'image'\u001b[0m\u001b[0;34m]\u001b[0m \u001b[0;34m=\u001b[0m \u001b[0mparams\u001b[0m\u001b[0;34m[\u001b[0m\u001b[0;34m'image'\u001b[0m\u001b[0;34m]\u001b[0m\u001b[0;34m.\u001b[0m\u001b[0mserialize\u001b[0m\u001b[0;34m(\u001b[0m\u001b[0;34m)\u001b[0m\u001b[0;34m\u001b[0m\u001b[0;34m\u001b[0m\u001b[0m\n\u001b[1;32m    576\u001b[0m   \u001b[0mparams\u001b[0m\u001b[0;34m[\u001b[0m\u001b[0;34m'json_format'\u001b[0m\u001b[0;34m]\u001b[0m \u001b[0;34m=\u001b[0m \u001b[0;34m'v2'\u001b[0m\u001b[0;34m\u001b[0m\u001b[0;34m\u001b[0m\u001b[0m\n\u001b[0;32m--> 577\u001b[0;31m   \u001b[0mresult\u001b[0m \u001b[0;34m=\u001b[0m \u001b[0msend_\u001b[0m\u001b[0;34m(\u001b[0m\u001b[0;34m'/mapid'\u001b[0m\u001b[0;34m,\u001b[0m \u001b[0mparams\u001b[0m\u001b[0;34m)\u001b[0m\u001b[0;34m\u001b[0m\u001b[0;34m\u001b[0m\u001b[0m\n\u001b[0m\u001b[1;32m    578\u001b[0m   url_format = '%s/map/%s/{z}/{x}/{y}?token=%s' % (\n\u001b[1;32m    579\u001b[0m       _tile_base_url, result['mapid'], result['token'])\n",
            "\u001b[0;32m/usr/local/lib/python3.6/dist-packages/ee/data.py\u001b[0m in \u001b[0;36msend_\u001b[0;34m(path, params, opt_method, opt_raw)\u001b[0m\n\u001b[1;32m   1776\u001b[0m       \u001b[0;32mraise\u001b[0m \u001b[0mee_exception\u001b[0m\u001b[0;34m.\u001b[0m\u001b[0mEEException\u001b[0m\u001b[0;34m(\u001b[0m\u001b[0;34m'Invalid JSON: %s'\u001b[0m \u001b[0;34m%\u001b[0m \u001b[0mcontent\u001b[0m\u001b[0;34m)\u001b[0m\u001b[0;34m\u001b[0m\u001b[0;34m\u001b[0m\u001b[0m\n\u001b[1;32m   1777\u001b[0m     \u001b[0;32mif\u001b[0m \u001b[0;34m'error'\u001b[0m \u001b[0;32min\u001b[0m \u001b[0mjson_content\u001b[0m\u001b[0;34m:\u001b[0m\u001b[0;34m\u001b[0m\u001b[0;34m\u001b[0m\u001b[0m\n\u001b[0;32m-> 1778\u001b[0;31m       \u001b[0;32mraise\u001b[0m \u001b[0mee_exception\u001b[0m\u001b[0;34m.\u001b[0m\u001b[0mEEException\u001b[0m\u001b[0;34m(\u001b[0m\u001b[0mjson_content\u001b[0m\u001b[0;34m[\u001b[0m\u001b[0;34m'error'\u001b[0m\u001b[0;34m]\u001b[0m\u001b[0;34m[\u001b[0m\u001b[0;34m'message'\u001b[0m\u001b[0;34m]\u001b[0m\u001b[0;34m)\u001b[0m\u001b[0;34m\u001b[0m\u001b[0;34m\u001b[0m\u001b[0m\n\u001b[0m\u001b[1;32m   1779\u001b[0m     \u001b[0;32mif\u001b[0m \u001b[0;34m'data'\u001b[0m \u001b[0;32mnot\u001b[0m \u001b[0;32min\u001b[0m \u001b[0mcontent\u001b[0m\u001b[0;34m:\u001b[0m\u001b[0;34m\u001b[0m\u001b[0;34m\u001b[0m\u001b[0m\n\u001b[1;32m   1780\u001b[0m       \u001b[0;32mraise\u001b[0m \u001b[0mee_exception\u001b[0m\u001b[0;34m.\u001b[0m\u001b[0mEEException\u001b[0m\u001b[0;34m(\u001b[0m\u001b[0;34m'Malformed response: '\u001b[0m \u001b[0;34m+\u001b[0m \u001b[0mstr\u001b[0m\u001b[0;34m(\u001b[0m\u001b[0mcontent\u001b[0m\u001b[0;34m)\u001b[0m\u001b[0;34m)\u001b[0m\u001b[0;34m\u001b[0m\u001b[0;34m\u001b[0m\u001b[0m\n",
            "\u001b[0;31mEEException\u001b[0m: Image.select: Pattern 'avg_vis' did not match any bands."
          ]
        }
      ]
    },
    {
      "cell_type": "markdown",
      "metadata": {
        "id": "tqLvMATjJVaC",
        "colab_type": "text"
      },
      "source": [
        "Night lights Nigeria"
      ]
    },
    {
      "cell_type": "code",
      "metadata": {
        "id": "h9CJfCuhJUF0",
        "colab_type": "code",
        "outputId": "03efdd39-028a-48eb-c8c7-8b49a1cdbce7",
        "colab": {
          "base_uri": "https://localhost:8080/",
          "height": 1000
        }
      },
      "source": [
        "#I found the JS code here: https://github.com/google/earthengine-api\n",
        "# Create a folium map object.\n",
        "myMap = folium.Map(location=[9.0820, 8.6753], zoom_start=6, height=1000)\n",
        "\n",
        "# Adds a band containing image date as years since 1991.\n",
        "def createTimeBand(img):\n",
        "  year = ee.Date(img.get('system:time_start')).get('year').subtract(1991)\n",
        "  return ee.Image(year).byte().addBands(img)\n",
        "\n",
        "\n",
        "# Map the time band creation helper over the night-time lights collection.\n",
        "# https://developers.google.com/earth-engine/datasets/catalog/NOAA_DMSP-OLS_NIGHTTIME_LIGHTS\n",
        "collection = ee.ImageCollection('NOAA/DMSP-OLS/NIGHTTIME_LIGHTS').select('stable_lights').map(createTimeBand)\n",
        "\n",
        "# Compute a linear fit over the series of values at each pixel, visualizing\n",
        "# the y-intercept in green, and positive/negative slopes as red/blue.\n",
        "myMap.add_ee_layer(collection.reduce(ee.Reducer.linearFit()),{'bands':['scale', 'offset', 'scale'], 'min': 0, 'max': [0.18, 20, -0.18]},'stable lights trend')\n",
        "\n",
        "# Add a layer control panel to the map.\n",
        "myMap.add_child(folium.LayerControl())\n",
        "\n",
        "# Display the map.\n",
        "display(myMap)"
      ],
      "execution_count": 0,
      "outputs": [
        {
          "output_type": "display_data",
          "data": {
            "text/html": [
              "<div style=\"width:100%;\"><div style=\"position:relative;width:100%;height:0;padding-bottom:60%;\"><iframe src=\"data:text/html;charset=utf-8;base64,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\" style=\"position:absolute;width:100%;height:100%;left:0;top:0;border:none !important;\" allowfullscreen webkitallowfullscreen mozallowfullscreen></iframe></div></div>"
            ],
            "text/plain": [
              "<folium.folium.Map at 0x7f288b67ea58>"
            ]
          },
          "metadata": {
            "tags": []
          }
        }
      ]
    },
    {
      "cell_type": "code",
      "metadata": {
        "id": "Tbf7CiCQj9Op",
        "colab_type": "code",
        "colab": {}
      },
      "source": [
        "collection.reduce?"
      ],
      "execution_count": 0,
      "outputs": []
    },
    {
      "cell_type": "markdown",
      "metadata": {
        "id": "Bn_0IxqhNGLF",
        "colab_type": "text"
      },
      "source": [
        "Air Temperature"
      ]
    },
    {
      "cell_type": "code",
      "metadata": {
        "id": "SqQAeaw3LxED",
        "colab_type": "code",
        "outputId": "0ea37859-7873-40d0-ee01-154aea985909",
        "colab": {
          "base_uri": "https://localhost:8080/",
          "height": 1000
        }
      },
      "source": [
        "# Create a folium map object.\n",
        "myMap = folium.Map(location=[9.0820, 8.6753], zoom_start=6, height=1000)\n",
        "\n",
        "# Adds a band containing image date as years since 1991.\n",
        "def createTimeBand(img):\n",
        "  year = ee.Date(img.get('system:time_start')).get('year').subtract(1991)\n",
        "  return ee.Image(year).byte().addBands(img)\n",
        "\n",
        "\n",
        "# Map the time band creation helper over the night-time lights collection.\n",
        "# https://developers.google.com/earth-engine/datasets/catalog/NOAA_DMSP-OLS_NIGHTTIME_LIGHTS\n",
        "collection = ee.ImageCollection('ECMWF/ERA5/DAILY').select('maximum_2m_air_temperature').filter(ee.Filter.date('2019-07-01', '2019-07-31'))\n",
        "\n",
        "# Compute a linear fit over the series of values at each pixel, visualizing\n",
        "# the y-intercept in green, and positive/negative slopes as red/blue.\n",
        "visParams = {\n",
        "  'min': 250,\n",
        "  'max': 320,\n",
        "  'palette': [\n",
        "    '#000080', '#0000D9', '#4000FF', '#8000FF', '#0080FF', '#00FFFF', '#00FF80',\n",
        "    '#80FF00', '#DAFF00', '#FFFF00', '#FFF500', '#FFDA00', '#FFB000', '#FFA400',\n",
        "    '#FF4F00', '#FF2500', '#FF0A00', '#FF00FF'\n",
        "  ]\n",
        "}\n",
        "myMap.add_ee_layer(collection.reduce(ee.Reducer.median()),visParams,'mean 2m air temperature')\n",
        "\n",
        "# Add a layer control panel to the map.\n",
        "myMap.add_child(folium.LayerControl())\n",
        "\n",
        "# Display the map.\n",
        "display(myMap)"
      ],
      "execution_count": 0,
      "outputs": [
        {
          "output_type": "display_data",
          "data": {
            "text/html": [
              "<div style=\"width:100%;\"><div style=\"position:relative;width:100%;height:0;padding-bottom:60%;\"><iframe src=\"data:text/html;charset=utf-8;base64,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\" style=\"position:absolute;width:100%;height:100%;left:0;top:0;border:none !important;\" allowfullscreen webkitallowfullscreen mozallowfullscreen></iframe></div></div>"
            ],
            "text/plain": [
              "<folium.folium.Map at 0x7f288b7615c0>"
            ]
          },
          "metadata": {
            "tags": []
          }
        }
      ]
    },
    {
      "cell_type": "code",
      "metadata": {
        "id": "rHx3tI0EKAjM",
        "colab_type": "code",
        "colab": {}
      },
      "source": [
        "collection.reduce?"
      ],
      "execution_count": 0,
      "outputs": []
    },
    {
      "cell_type": "markdown",
      "metadata": {
        "id": "lRAxStFNs7WZ",
        "colab_type": "text"
      },
      "source": [
        "Generates a satelite video evolution of the selected region (currently not working)"
      ]
    },
    {
      "cell_type": "code",
      "metadata": {
        "id": "jsEQqpI3kfhP",
        "colab_type": "code",
        "outputId": "a9a99efc-dec8-4d77-d48d-62aa3b9130ad",
        "colab": {
          "base_uri": "https://localhost:8080/",
          "height": 51
        }
      },
      "source": [
        "#initial snippet found here: https://geoscripting-wur.github.io/Earth_Engine/\n",
        "import ee\n",
        "from ee import batch\n",
        "## Initialize connection to server\n",
        "ee.Initialize()\n",
        "## Define your image collection\n",
        "#collection = ee.ImageCollection('LANDSAT/LC8_L1T_TOA')\n",
        "collection = ee.ImageCollection('ECMWF/ERA5/DAILY')\n",
        "## Define time range\n",
        "collection_time = collection.filterDate('2013-04-11', '2018-01-01') #YYYY-MM-DD\n",
        "## Select location based on location of tile\n",
        "path = collection_time.filter(ee.Filter.eq('WRS_PATH', 198))\n",
        "pathrow = path.filter(ee.Filter.eq('WRS_ROW', 24))\n",
        "# or via geographical location:\n",
        "#point_geom = ee.Geometry.Point(5, 52) #longitude, latitude\n",
        "#pathrow = collection_time.filterBounds(point_geom)\n",
        "## Select imagery with less then 5% of image covered by clouds\n",
        "clouds = pathrow.filter(ee.Filter.lt('CLOUD_COVER', 5))\n",
        "## Select bands\n",
        "bands = clouds.select(['B4', 'B3', 'B2'])\n",
        "## Make 8 bit data\n",
        "def convertBit(image):\n",
        "    return image.multiply(512).uint8()  \n",
        "## Convert bands to output video  \n",
        "outputVideo = bands.map(convertBit)\n",
        "print(\"Starting to create a video\")\n",
        "## Export video to Google Drive\n",
        "out = batch.Export.video.toDrive(outputVideo, description='Nigeria_video_region_L8_time', dimensions = 720, framesPerSecond = 2, region=([8.6753,9.0820], [8.6753, 9.0820],[8.6753, 9.0820],[8.6753, 9.0820]), maxFrames=10000)\n",
        "## Process the image\n",
        "process = batch.Task\n",
        "process.start(out)\n",
        "print(\"Process sent to cloud\")"
      ],
      "execution_count": 0,
      "outputs": [
        {
          "output_type": "stream",
          "text": [
            "Starting to create a video\n",
            "Process sent to cloud\n"
          ],
          "name": "stdout"
        }
      ]
    },
    {
      "cell_type": "code",
      "metadata": {
        "id": "NEKEWDCWx71p",
        "colab_type": "code",
        "outputId": "9e27f7fd-69b6-46ef-b264-886c3a1046a3",
        "colab": {
          "base_uri": "https://localhost:8080/",
          "height": 119
        }
      },
      "source": [
        "process.status(out)"
      ],
      "execution_count": 0,
      "outputs": [
        {
          "output_type": "execute_result",
          "data": {
            "text/plain": [
              "{'creation_timestamp_ms': 1572961002177,\n",
              " 'description': 'Nigeria_video_region_L8_time',\n",
              " 'id': 'ZZUHXBEJBUXCELJ4DHLNHQFO',\n",
              " 'state': 'READY',\n",
              " 'task_type': 'EXPORT_VIDEO',\n",
              " 'update_timestamp_ms': 1572961002177}"
            ]
          },
          "metadata": {
            "tags": []
          },
          "execution_count": 79
        }
      ]
    },
    {
      "cell_type": "code",
      "metadata": {
        "id": "nY2UsiP6u623",
        "colab_type": "code",
        "outputId": "a5d37d2e-37ae-44f3-ae2e-d184cb06fcc3",
        "colab": {
          "base_uri": "https://localhost:8080/",
          "height": 119
        }
      },
      "source": [
        "process.list()"
      ],
      "execution_count": 0,
      "outputs": [
        {
          "output_type": "execute_result",
          "data": {
            "text/plain": [
              "[<Task EXPORT_VIDEO: Nigeria_video_region_L8_time (FAILED)>,\n",
              " <Task EXPORT_VIDEO: Nigeria_video_region_L8_time (FAILED)>,\n",
              " <Task EXPORT_VIDEO: Nigeria_video_region_L8_time (FAILED)>,\n",
              " <Task EXPORT_VIDEO: Nigeria_video_region_L8_time (FAILED)>,\n",
              " <Task EXPORT_VIDEO: Nigeria_video_region_L8_time (FAILED)>,\n",
              " <Task EXPORT_VIDEO: Netherlands_video_region_L8_time (COMPLETED)>]"
            ]
          },
          "metadata": {
            "tags": []
          },
          "execution_count": 82
        }
      ]
    },
    {
      "cell_type": "code",
      "metadata": {
        "id": "V_K89Qzsk8_C",
        "colab_type": "code",
        "outputId": "7b7d6430-cd68-471e-dc6b-60f136fbbe5d",
        "colab": {
          "base_uri": "https://localhost:8080/",
          "height": 1000
        }
      },
      "source": [
        "print(outputVideo)"
      ],
      "execution_count": 0,
      "outputs": [
        {
          "output_type": "stream",
          "text": [
            "ee.ImageCollection({\n",
            "  \"type\": \"Invocation\",\n",
            "  \"arguments\": {\n",
            "    \"collection\": {\n",
            "      \"type\": \"Invocation\",\n",
            "      \"arguments\": {\n",
            "        \"collection\": {\n",
            "          \"type\": \"Invocation\",\n",
            "          \"arguments\": {\n",
            "            \"collection\": {\n",
            "              \"type\": \"Invocation\",\n",
            "              \"arguments\": {\n",
            "                \"collection\": {\n",
            "                  \"type\": \"Invocation\",\n",
            "                  \"arguments\": {\n",
            "                    \"collection\": {\n",
            "                      \"type\": \"Invocation\",\n",
            "                      \"arguments\": {\n",
            "                        \"collection\": {\n",
            "                          \"type\": \"Invocation\",\n",
            "                          \"arguments\": {\n",
            "                            \"id\": \"LANDSAT/LC8_L1T_TOA\"\n",
            "                          },\n",
            "                          \"functionName\": \"ImageCollection.load\"\n",
            "                        },\n",
            "                        \"filter\": {\n",
            "                          \"type\": \"Invocation\",\n",
            "                          \"arguments\": {\n",
            "                            \"rightField\": \"system:time_start\",\n",
            "                            \"leftValue\": {\n",
            "                              \"type\": \"Invocation\",\n",
            "                              \"arguments\": {\n",
            "                                \"start\": \"2013-04-11\",\n",
            "                                \"end\": \"2018-01-01\"\n",
            "                              },\n",
            "                              \"functionName\": \"DateRange\"\n",
            "                            }\n",
            "                          },\n",
            "                          \"functionName\": \"Filter.dateRangeContains\"\n",
            "                        }\n",
            "                      },\n",
            "                      \"functionName\": \"Collection.filter\"\n",
            "                    },\n",
            "                    \"filter\": {\n",
            "                      \"type\": \"Invocation\",\n",
            "                      \"arguments\": {\n",
            "                        \"leftField\": \"WRS_PATH\",\n",
            "                        \"rightValue\": 198\n",
            "                      },\n",
            "                      \"functionName\": \"Filter.equals\"\n",
            "                    }\n",
            "                  },\n",
            "                  \"functionName\": \"Collection.filter\"\n",
            "                },\n",
            "                \"filter\": {\n",
            "                  \"type\": \"Invocation\",\n",
            "                  \"arguments\": {\n",
            "                    \"leftField\": \"WRS_ROW\",\n",
            "                    \"rightValue\": 24\n",
            "                  },\n",
            "                  \"functionName\": \"Filter.equals\"\n",
            "                }\n",
            "              },\n",
            "              \"functionName\": \"Collection.filter\"\n",
            "            },\n",
            "            \"filter\": {\n",
            "              \"type\": \"Invocation\",\n",
            "              \"arguments\": {\n",
            "                \"leftField\": \"CLOUD_COVER\",\n",
            "                \"rightValue\": 5\n",
            "              },\n",
            "              \"functionName\": \"Filter.lessThan\"\n",
            "            }\n",
            "          },\n",
            "          \"functionName\": \"Collection.filter\"\n",
            "        },\n",
            "        \"baseAlgorithm\": {\n",
            "          \"type\": \"Function\",\n",
            "          \"argumentNames\": [\n",
            "            \"_MAPPING_VAR_0_0\"\n",
            "          ],\n",
            "          \"body\": {\n",
            "            \"type\": \"Invocation\",\n",
            "            \"arguments\": {\n",
            "              \"input\": {\n",
            "                \"type\": \"ArgumentRef\",\n",
            "                \"value\": \"_MAPPING_VAR_0_0\"\n",
            "              },\n",
            "              \"bandSelectors\": [\n",
            "                \"B4\",\n",
            "                \"B3\",\n",
            "                \"B2\"\n",
            "              ]\n",
            "            },\n",
            "            \"functionName\": \"Image.select\"\n",
            "          }\n",
            "        }\n",
            "      },\n",
            "      \"functionName\": \"Collection.map\"\n",
            "    },\n",
            "    \"baseAlgorithm\": {\n",
            "      \"type\": \"Function\",\n",
            "      \"argumentNames\": [\n",
            "        \"_MAPPING_VAR_0_0\"\n",
            "      ],\n",
            "      \"body\": {\n",
            "        \"type\": \"Invocation\",\n",
            "        \"arguments\": {\n",
            "          \"value\": {\n",
            "            \"type\": \"Invocation\",\n",
            "            \"arguments\": {\n",
            "              \"image1\": {\n",
            "                \"type\": \"ArgumentRef\",\n",
            "                \"value\": \"_MAPPING_VAR_0_0\"\n",
            "              },\n",
            "              \"image2\": {\n",
            "                \"type\": \"Invocation\",\n",
            "                \"arguments\": {\n",
            "                  \"value\": 512\n",
            "                },\n",
            "                \"functionName\": \"Image.constant\"\n",
            "              }\n",
            "            },\n",
            "            \"functionName\": \"Image.multiply\"\n",
            "          }\n",
            "        },\n",
            "        \"functionName\": \"Image.uint8\"\n",
            "      }\n",
            "    }\n",
            "  },\n",
            "  \"functionName\": \"Collection.map\"\n",
            "})\n"
          ],
          "name": "stdout"
        }
      ]
    },
    {
      "cell_type": "code",
      "metadata": {
        "id": "IOuOyTBSkg_0",
        "colab_type": "code",
        "outputId": "c8182145-eabd-4517-c8db-768554817b8b",
        "colab": {
          "base_uri": "https://localhost:8080/",
          "height": 136
        }
      },
      "source": [
        "print(dem)"
      ],
      "execution_count": 0,
      "outputs": [
        {
          "output_type": "stream",
          "text": [
            "ee.Image({\n",
            "  \"type\": \"Invocation\",\n",
            "  \"arguments\": {\n",
            "    \"id\": \"USGS/SRTMGL1_003\"\n",
            "  },\n",
            "  \"functionName\": \"Image.load\"\n",
            "})\n"
          ],
          "name": "stdout"
        }
      ]
    },
    {
      "cell_type": "code",
      "metadata": {
        "id": "i6Jr6_UhvauF",
        "colab_type": "code",
        "outputId": "730af235-a8fb-40a1-c5a4-87b760e7a8dd",
        "colab": {
          "base_uri": "https://localhost:8080/",
          "height": 969
        }
      },
      "source": [
        "print(pathrow)"
      ],
      "execution_count": 0,
      "outputs": [
        {
          "output_type": "stream",
          "text": [
            "ee.ImageCollection({\n",
            "  \"type\": \"Invocation\",\n",
            "  \"arguments\": {\n",
            "    \"collection\": {\n",
            "      \"type\": \"Invocation\",\n",
            "      \"arguments\": {\n",
            "        \"collection\": {\n",
            "          \"type\": \"Invocation\",\n",
            "          \"arguments\": {\n",
            "            \"collection\": {\n",
            "              \"type\": \"Invocation\",\n",
            "              \"arguments\": {\n",
            "                \"id\": \"LANDSAT/LC8_L1T_TOA\"\n",
            "              },\n",
            "              \"functionName\": \"ImageCollection.load\"\n",
            "            },\n",
            "            \"filter\": {\n",
            "              \"type\": \"Invocation\",\n",
            "              \"arguments\": {\n",
            "                \"rightField\": \"system:time_start\",\n",
            "                \"leftValue\": {\n",
            "                  \"type\": \"Invocation\",\n",
            "                  \"arguments\": {\n",
            "                    \"start\": \"2013-04-11\",\n",
            "                    \"end\": \"2018-01-01\"\n",
            "                  },\n",
            "                  \"functionName\": \"DateRange\"\n",
            "                }\n",
            "              },\n",
            "              \"functionName\": \"Filter.dateRangeContains\"\n",
            "            }\n",
            "          },\n",
            "          \"functionName\": \"Collection.filter\"\n",
            "        },\n",
            "        \"filter\": {\n",
            "          \"type\": \"Invocation\",\n",
            "          \"arguments\": {\n",
            "            \"leftField\": \"WRS_PATH\",\n",
            "            \"rightValue\": 198\n",
            "          },\n",
            "          \"functionName\": \"Filter.equals\"\n",
            "        }\n",
            "      },\n",
            "      \"functionName\": \"Collection.filter\"\n",
            "    },\n",
            "    \"filter\": {\n",
            "      \"type\": \"Invocation\",\n",
            "      \"arguments\": {\n",
            "        \"leftField\": \"WRS_ROW\",\n",
            "        \"rightValue\": 24\n",
            "      },\n",
            "      \"functionName\": \"Filter.equals\"\n",
            "    }\n",
            "  },\n",
            "  \"functionName\": \"Collection.filter\"\n",
            "})\n"
          ],
          "name": "stdout"
        }
      ]
    },
    {
      "cell_type": "code",
      "metadata": {
        "id": "KRs3sViXmrJL",
        "colab_type": "code",
        "outputId": "46b01fbb-4c31-49bb-8f26-512200d50efa",
        "colab": {
          "base_uri": "https://localhost:8080/",
          "height": 282
        }
      },
      "source": [
        "# Import libraries.\n",
        "import ee\n",
        "import matplotlib.pyplot as plt\n",
        "\n",
        "# Initialize the Earth Engine module.\n",
        "ee.Initialize()\n",
        "\n",
        "# Fetch a Landsat image.\n",
        "img = ee.Image('LANDSAT/LT05/C01/T1_SR/LT05_034033_20000913')\n",
        "\n",
        "# Select Red and NIR bands, scale them, and sample 500 points.\n",
        "sampFC = img.select(['B3','B4']).divide(10000).sample(scale=30, numPixels=500)\n",
        "\n",
        "# Arrange the sample as a list of lists.\n",
        "sampDict = sampFC.reduceColumns(ee.Reducer.toList().repeat(2), ['B3', 'B4'])\n",
        "sampList = ee.List(sampDict.get('list'))\n",
        "\n",
        "# Save server-side ee.List as a client-side Python list.\n",
        "sampData = sampList.getInfo()\n",
        "\n",
        "# Display a scatter plot of Red-NIR sample pairs using matplotlib.\n",
        "plt.scatter(sampData[0], sampData[1], alpha=0.2)\n",
        "plt.xlabel('Red', fontsize=12)\n",
        "plt.ylabel('NIR', fontsize=12)\n",
        "plt.show()"
      ],
      "execution_count": 0,
      "outputs": [
        {
          "output_type": "display_data",
          "data": {
            "image/png": "[encoded data removed]",
            "text/plain": [
              "<Figure size 432x288 with 1 Axes>"
            ]
          },
          "metadata": {
            "tags": []
          }
        }
      ]
    },
    {
      "cell_type": "code",
      "metadata": {
        "id": "pBh9kMYggz-G",
        "colab_type": "code",
        "colab": {}
      },
      "source": [
        ""
      ],
      "execution_count": 0,
      "outputs": []
    }
  ]
}