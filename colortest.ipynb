{
 "cells": [
  {
   "cell_type": "code",
   "execution_count": 6,
   "metadata": {},
   "outputs": [],
   "source": [
    "import torchvision\n",
    "from fastai import *\n",
    "from fastai.vision import *\n",
    "from skimage.io import imread, imshow"
   ]
  },
  {
   "cell_type": "code",
   "execution_count": 7,
   "metadata": {},
   "outputs": [],
   "source": [
    "class Colors(Dataset):\n",
    "    def __init__(self, seed, size):\n",
    "        red=np.stack([np.ones((224,224)), np.zeros((224,224)), np.zeros((224,224))], axis=0).astype(np.float32)\n",
    "        blue=np.stack([np.zeros((224,224)), np.zeros((224,224)), np.ones((224,224))], axis=0).astype(np.float32)\n",
    "        self.cards = [red, blue]\n",
    "        np.random.seed(seed)\n",
    "        self.size = size\n",
    "        self.list = np.random.random(size)\n",
    "\n",
    "    def __getitem__(self, index):\n",
    "        cat = int(self.list[index]>.5)\n",
    "        return self.cards[cat], cat\n",
    "    \n",
    "    def __len__(self):\n",
    "        return self.size\n",
    "\n",
    "dltrain = DataLoader(Colors(0, 500), batch_size=8)\n",
    "dlvalid = DataLoader(Colors(1, 50), batch_size=8)\n",
    "db = ImageDataBunch(dltrain, dlvalid)\n",
    "db.c = 2"
   ]
  },
  {
   "cell_type": "code",
   "execution_count": 8,
   "metadata": {},
   "outputs": [
    {
     "data": {
      "text/plain": [
       "<matplotlib.image.AxesImage at 0x7fe6ec0fa2b0>"
      ]
     },
     "execution_count": 8,
     "metadata": {},
     "output_type": "execute_result"
    },
    {
     "data": {
      "image/png": "[encoded data removed]",
      "text/plain": [
       "<Figure size 432x288 with 2 Axes>"
      ]
     },
     "metadata": {
      "needs_background": "light"
     },
     "output_type": "display_data"
    }
   ],
   "source": [
    "imshow(db.train_ds[0][0].transpose(1,2,0))"
   ]
  },
  {
   "cell_type": "code",
   "execution_count": 9,
   "metadata": {},
   "outputs": [],
   "source": [
    "learn = create_cnn(db, arch=torchvision.models.vgg16_bn, metrics=accuracy, loss_func=F.cross_entropy)"
   ]
  },
  {
   "cell_type": "code",
   "execution_count": 10,
   "metadata": {},
   "outputs": [
    {
     "data": {
      "text/html": [
       "Total time: 00:24 <p><table style='width:300px; margin-bottom:10px'>\n",
       "  <tr>\n",
       "    <th>epoch</th>\n",
       "    <th>train_loss</th>\n",
       "    <th>valid_loss</th>\n",
       "    <th>accuracy</th>\n",
       "  </tr>\n",
       "  <tr>\n",
       "    <th>1</th>\n",
       "    <th>0.018219</th>\n",
       "    <th>0.002794</th>\n",
       "    <th>1.000000</th>\n",
       "  </tr>\n",
       "</table>\n"
      ],
      "text/plain": [
       "<IPython.core.display.HTML object>"
      ]
     },
     "metadata": {},
     "output_type": "display_data"
    }
   ],
   "source": [
    "learn.fit_one_cycle(1, .01)"
   ]
  }
 ],
 "metadata": {
  "jupytext": {
   "formats": "ipynb,py:light",
   "text_representation": {
    "extension": ".py",
    "format_name": "light",
    "format_version": "1.3",
    "jupytext_version": "0.8.5"
   }
  },
  "kernelspec": {
   "display_name": "Python 3",
   "language": "python",
   "name": "python3"
  },
  "language_info": {
   "codemirror_mode": {
    "name": "ipython",
    "version": 3
   },
   "file_extension": ".py",
   "mimetype": "text/x-python",
   "name": "python",
   "nbconvert_exporter": "python",
   "pygments_lexer": "ipython3",
   "version": "3.6.6"
  }
 },
 "nbformat": 4,
 "nbformat_minor": 2
}
